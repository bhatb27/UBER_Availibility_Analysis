{
 "cells": [
  {
   "cell_type": "markdown",
   "metadata": {},
   "source": [
    "# UBER Assignment"
   ]
  },
  {
   "cell_type": "markdown",
   "metadata": {},
   "source": [
    "### Business Objectives\n",
    "The aim of analysis is to identify the root cause of the problem (i.e. cancellation and non-availability of cars) and recommend ways to improve the situation. As a result of your analysis, you should be able to present to the client the root cause(s) and possible hypotheses of the problem(s) and recommend ways to improve them. "
   ]
  },
  {
   "cell_type": "markdown",
   "metadata": {},
   "source": [
    "### Metadata\n",
    "- Request id: A unique identifier of the request\n",
    "- Time of request: The date and time at which the customer made the trip request\n",
    "- Drop-off time: The drop-off date and time, in case the trip was completed \n",
    "- Pick-up point: The point from which the request was made\n",
    "- Driver id: The unique identification number of the driver\n",
    "- Status of the request: The final status of the trip, that can be either completed, cancelled by the driver or no cars available"
   ]
  },
  {
   "cell_type": "markdown",
   "metadata": {},
   "source": [
    "### Importing Packages"
   ]
  },
  {
   "cell_type": "code",
   "execution_count": 1,
   "metadata": {},
   "outputs": [],
   "source": [
    "import pandas as pd\n",
    "import numpy as np\n",
    "import datetime as dt\n",
    "import seaborn as sns\n",
    "import matplotlib.pyplot as plt"
   ]
  },
  {
   "cell_type": "code",
   "execution_count": null,
   "metadata": {},
   "outputs": [],
   "source": []
  },
  {
   "cell_type": "markdown",
   "metadata": {},
   "source": [
    "### Importing Data"
   ]
  },
  {
   "cell_type": "code",
   "execution_count": 2,
   "metadata": {},
   "outputs": [],
   "source": [
    "uber = pd.read_csv('C:/Users/Karthik Bhat/Documents/PGDDS/Python/Assignment/UBER Assignment/Uber Request Data.csv')"
   ]
  },
  {
   "cell_type": "code",
   "execution_count": 3,
   "metadata": {},
   "outputs": [
    {
     "data": {
      "text/html": [
       "<div>\n",
       "<style scoped>\n",
       "    .dataframe tbody tr th:only-of-type {\n",
       "        vertical-align: middle;\n",
       "    }\n",
       "\n",
       "    .dataframe tbody tr th {\n",
       "        vertical-align: top;\n",
       "    }\n",
       "\n",
       "    .dataframe thead th {\n",
       "        text-align: right;\n",
       "    }\n",
       "</style>\n",
       "<table border=\"1\" class=\"dataframe\">\n",
       "  <thead>\n",
       "    <tr style=\"text-align: right;\">\n",
       "      <th></th>\n",
       "      <th>Request id</th>\n",
       "      <th>Driver id</th>\n",
       "    </tr>\n",
       "  </thead>\n",
       "  <tbody>\n",
       "    <tr>\n",
       "      <th>count</th>\n",
       "      <td>6745.000000</td>\n",
       "      <td>4095.000000</td>\n",
       "    </tr>\n",
       "    <tr>\n",
       "      <th>mean</th>\n",
       "      <td>3384.644922</td>\n",
       "      <td>149.501343</td>\n",
       "    </tr>\n",
       "    <tr>\n",
       "      <th>std</th>\n",
       "      <td>1955.099667</td>\n",
       "      <td>86.051994</td>\n",
       "    </tr>\n",
       "    <tr>\n",
       "      <th>min</th>\n",
       "      <td>1.000000</td>\n",
       "      <td>1.000000</td>\n",
       "    </tr>\n",
       "    <tr>\n",
       "      <th>25%</th>\n",
       "      <td>1691.000000</td>\n",
       "      <td>75.000000</td>\n",
       "    </tr>\n",
       "    <tr>\n",
       "      <th>50%</th>\n",
       "      <td>3387.000000</td>\n",
       "      <td>149.000000</td>\n",
       "    </tr>\n",
       "    <tr>\n",
       "      <th>75%</th>\n",
       "      <td>5080.000000</td>\n",
       "      <td>224.000000</td>\n",
       "    </tr>\n",
       "    <tr>\n",
       "      <th>max</th>\n",
       "      <td>6766.000000</td>\n",
       "      <td>300.000000</td>\n",
       "    </tr>\n",
       "  </tbody>\n",
       "</table>\n",
       "</div>"
      ],
      "text/plain": [
       "        Request id    Driver id\n",
       "count  6745.000000  4095.000000\n",
       "mean   3384.644922   149.501343\n",
       "std    1955.099667    86.051994\n",
       "min       1.000000     1.000000\n",
       "25%    1691.000000    75.000000\n",
       "50%    3387.000000   149.000000\n",
       "75%    5080.000000   224.000000\n",
       "max    6766.000000   300.000000"
      ]
     },
     "execution_count": 3,
     "metadata": {},
     "output_type": "execute_result"
    }
   ],
   "source": [
    "uber.describe()"
   ]
  },
  {
   "cell_type": "code",
   "execution_count": 4,
   "metadata": {},
   "outputs": [
    {
     "name": "stdout",
     "output_type": "stream",
     "text": [
      "<class 'pandas.core.frame.DataFrame'>\n",
      "RangeIndex: 6745 entries, 0 to 6744\n",
      "Data columns (total 6 columns):\n",
      "Request id           6745 non-null int64\n",
      "Pickup point         6745 non-null object\n",
      "Driver id            4095 non-null float64\n",
      "Status               6745 non-null object\n",
      "Request timestamp    6745 non-null object\n",
      "Drop timestamp       2831 non-null object\n",
      "dtypes: float64(1), int64(1), object(4)\n",
      "memory usage: 316.2+ KB\n"
     ]
    }
   ],
   "source": [
    "# Checking for data types for each column\n",
    "uber.info()"
   ]
  },
  {
   "cell_type": "code",
   "execution_count": 5,
   "metadata": {},
   "outputs": [
    {
     "data": {
      "text/plain": [
       "(6745, 6)"
      ]
     },
     "execution_count": 5,
     "metadata": {},
     "output_type": "execute_result"
    }
   ],
   "source": [
    "uber.shape\n",
    "# So there are total 6745 records"
   ]
  },
  {
   "cell_type": "code",
   "execution_count": 6,
   "metadata": {},
   "outputs": [
    {
     "data": {
      "text/html": [
       "<div>\n",
       "<style scoped>\n",
       "    .dataframe tbody tr th:only-of-type {\n",
       "        vertical-align: middle;\n",
       "    }\n",
       "\n",
       "    .dataframe tbody tr th {\n",
       "        vertical-align: top;\n",
       "    }\n",
       "\n",
       "    .dataframe thead th {\n",
       "        text-align: right;\n",
       "    }\n",
       "</style>\n",
       "<table border=\"1\" class=\"dataframe\">\n",
       "  <thead>\n",
       "    <tr style=\"text-align: right;\">\n",
       "      <th></th>\n",
       "      <th>Request id</th>\n",
       "      <th>Pickup point</th>\n",
       "      <th>Driver id</th>\n",
       "      <th>Status</th>\n",
       "      <th>Request timestamp</th>\n",
       "      <th>Drop timestamp</th>\n",
       "    </tr>\n",
       "  </thead>\n",
       "  <tbody>\n",
       "    <tr>\n",
       "      <th>0</th>\n",
       "      <td>619</td>\n",
       "      <td>Airport</td>\n",
       "      <td>1.0</td>\n",
       "      <td>Trip Completed</td>\n",
       "      <td>11/7/2016 11:51</td>\n",
       "      <td>11/7/2016 13:00</td>\n",
       "    </tr>\n",
       "    <tr>\n",
       "      <th>1</th>\n",
       "      <td>867</td>\n",
       "      <td>Airport</td>\n",
       "      <td>1.0</td>\n",
       "      <td>Trip Completed</td>\n",
       "      <td>11/7/2016 17:57</td>\n",
       "      <td>11/7/2016 18:47</td>\n",
       "    </tr>\n",
       "    <tr>\n",
       "      <th>2</th>\n",
       "      <td>1807</td>\n",
       "      <td>City</td>\n",
       "      <td>1.0</td>\n",
       "      <td>Trip Completed</td>\n",
       "      <td>12/7/2016 9:17</td>\n",
       "      <td>12/7/2016 9:58</td>\n",
       "    </tr>\n",
       "    <tr>\n",
       "      <th>3</th>\n",
       "      <td>2532</td>\n",
       "      <td>Airport</td>\n",
       "      <td>1.0</td>\n",
       "      <td>Trip Completed</td>\n",
       "      <td>12/7/2016 21:08</td>\n",
       "      <td>12/7/2016 22:03</td>\n",
       "    </tr>\n",
       "    <tr>\n",
       "      <th>4</th>\n",
       "      <td>3112</td>\n",
       "      <td>City</td>\n",
       "      <td>1.0</td>\n",
       "      <td>Trip Completed</td>\n",
       "      <td>13-07-2016 08:33:16</td>\n",
       "      <td>13-07-2016 09:25:47</td>\n",
       "    </tr>\n",
       "    <tr>\n",
       "      <th>5</th>\n",
       "      <td>3879</td>\n",
       "      <td>Airport</td>\n",
       "      <td>1.0</td>\n",
       "      <td>Trip Completed</td>\n",
       "      <td>13-07-2016 21:57:28</td>\n",
       "      <td>13-07-2016 22:28:59</td>\n",
       "    </tr>\n",
       "    <tr>\n",
       "      <th>6</th>\n",
       "      <td>4270</td>\n",
       "      <td>Airport</td>\n",
       "      <td>1.0</td>\n",
       "      <td>Trip Completed</td>\n",
       "      <td>14-07-2016 06:15:32</td>\n",
       "      <td>14-07-2016 07:13:15</td>\n",
       "    </tr>\n",
       "    <tr>\n",
       "      <th>7</th>\n",
       "      <td>5510</td>\n",
       "      <td>Airport</td>\n",
       "      <td>1.0</td>\n",
       "      <td>Trip Completed</td>\n",
       "      <td>15-07-2016 05:11:52</td>\n",
       "      <td>15-07-2016 06:07:52</td>\n",
       "    </tr>\n",
       "    <tr>\n",
       "      <th>8</th>\n",
       "      <td>6248</td>\n",
       "      <td>City</td>\n",
       "      <td>1.0</td>\n",
       "      <td>Trip Completed</td>\n",
       "      <td>15-07-2016 17:57:27</td>\n",
       "      <td>15-07-2016 18:50:51</td>\n",
       "    </tr>\n",
       "    <tr>\n",
       "      <th>9</th>\n",
       "      <td>267</td>\n",
       "      <td>City</td>\n",
       "      <td>2.0</td>\n",
       "      <td>Trip Completed</td>\n",
       "      <td>11/7/2016 6:46</td>\n",
       "      <td>11/7/2016 7:25</td>\n",
       "    </tr>\n",
       "    <tr>\n",
       "      <th>10</th>\n",
       "      <td>1467</td>\n",
       "      <td>Airport</td>\n",
       "      <td>2.0</td>\n",
       "      <td>Trip Completed</td>\n",
       "      <td>12/7/2016 5:08</td>\n",
       "      <td>12/7/2016 6:02</td>\n",
       "    </tr>\n",
       "    <tr>\n",
       "      <th>11</th>\n",
       "      <td>1983</td>\n",
       "      <td>City</td>\n",
       "      <td>2.0</td>\n",
       "      <td>Trip Completed</td>\n",
       "      <td>12/7/2016 12:30</td>\n",
       "      <td>12/7/2016 12:57</td>\n",
       "    </tr>\n",
       "    <tr>\n",
       "      <th>12</th>\n",
       "      <td>2784</td>\n",
       "      <td>Airport</td>\n",
       "      <td>2.0</td>\n",
       "      <td>Trip Completed</td>\n",
       "      <td>13-07-2016 04:49:20</td>\n",
       "      <td>13-07-2016 05:23:03</td>\n",
       "    </tr>\n",
       "    <tr>\n",
       "      <th>13</th>\n",
       "      <td>3075</td>\n",
       "      <td>City</td>\n",
       "      <td>2.0</td>\n",
       "      <td>Trip Completed</td>\n",
       "      <td>13-07-2016 08:02:53</td>\n",
       "      <td>13-07-2016 09:16:19</td>\n",
       "    </tr>\n",
       "    <tr>\n",
       "      <th>14</th>\n",
       "      <td>3379</td>\n",
       "      <td>City</td>\n",
       "      <td>2.0</td>\n",
       "      <td>Trip Completed</td>\n",
       "      <td>13-07-2016 14:23:02</td>\n",
       "      <td>13-07-2016 15:35:18</td>\n",
       "    </tr>\n",
       "    <tr>\n",
       "      <th>15</th>\n",
       "      <td>3482</td>\n",
       "      <td>Airport</td>\n",
       "      <td>2.0</td>\n",
       "      <td>Trip Completed</td>\n",
       "      <td>13-07-2016 17:23:18</td>\n",
       "      <td>13-07-2016 18:20:51</td>\n",
       "    </tr>\n",
       "    <tr>\n",
       "      <th>16</th>\n",
       "      <td>4652</td>\n",
       "      <td>City</td>\n",
       "      <td>2.0</td>\n",
       "      <td>Trip Completed</td>\n",
       "      <td>14-07-2016 12:01:02</td>\n",
       "      <td>14-07-2016 12:36:46</td>\n",
       "    </tr>\n",
       "    <tr>\n",
       "      <th>17</th>\n",
       "      <td>5335</td>\n",
       "      <td>Airport</td>\n",
       "      <td>2.0</td>\n",
       "      <td>Trip Completed</td>\n",
       "      <td>14-07-2016 22:24:13</td>\n",
       "      <td>14-07-2016 23:18:52</td>\n",
       "    </tr>\n",
       "    <tr>\n",
       "      <th>18</th>\n",
       "      <td>535</td>\n",
       "      <td>Airport</td>\n",
       "      <td>3.0</td>\n",
       "      <td>Trip Completed</td>\n",
       "      <td>11/7/2016 10:00</td>\n",
       "      <td>11/7/2016 10:31</td>\n",
       "    </tr>\n",
       "    <tr>\n",
       "      <th>19</th>\n",
       "      <td>960</td>\n",
       "      <td>Airport</td>\n",
       "      <td>3.0</td>\n",
       "      <td>Trip Completed</td>\n",
       "      <td>11/7/2016 18:45</td>\n",
       "      <td>11/7/2016 19:23</td>\n",
       "    </tr>\n",
       "    <tr>\n",
       "      <th>20</th>\n",
       "      <td>1934</td>\n",
       "      <td>Airport</td>\n",
       "      <td>3.0</td>\n",
       "      <td>Trip Completed</td>\n",
       "      <td>12/7/2016 11:17</td>\n",
       "      <td>12/7/2016 12:23</td>\n",
       "    </tr>\n",
       "    <tr>\n",
       "      <th>21</th>\n",
       "      <td>2083</td>\n",
       "      <td>Airport</td>\n",
       "      <td>3.0</td>\n",
       "      <td>Trip Completed</td>\n",
       "      <td>12/7/2016 15:46</td>\n",
       "      <td>12/7/2016 16:40</td>\n",
       "    </tr>\n",
       "    <tr>\n",
       "      <th>22</th>\n",
       "      <td>2211</td>\n",
       "      <td>Airport</td>\n",
       "      <td>3.0</td>\n",
       "      <td>Trip Completed</td>\n",
       "      <td>12/7/2016 18:00</td>\n",
       "      <td>12/7/2016 18:28</td>\n",
       "    </tr>\n",
       "    <tr>\n",
       "      <th>23</th>\n",
       "      <td>3096</td>\n",
       "      <td>Airport</td>\n",
       "      <td>3.0</td>\n",
       "      <td>Trip Completed</td>\n",
       "      <td>13-07-2016 08:17:29</td>\n",
       "      <td>13-07-2016 09:22:37</td>\n",
       "    </tr>\n",
       "    <tr>\n",
       "      <th>24</th>\n",
       "      <td>3881</td>\n",
       "      <td>Airport</td>\n",
       "      <td>3.0</td>\n",
       "      <td>Trip Completed</td>\n",
       "      <td>13-07-2016 21:54:18</td>\n",
       "      <td>13-07-2016 22:51:23</td>\n",
       "    </tr>\n",
       "    <tr>\n",
       "      <th>25</th>\n",
       "      <td>5254</td>\n",
       "      <td>City</td>\n",
       "      <td>3.0</td>\n",
       "      <td>Trip Completed</td>\n",
       "      <td>14-07-2016 21:23:03</td>\n",
       "      <td>14-07-2016 22:25:19</td>\n",
       "    </tr>\n",
       "    <tr>\n",
       "      <th>26</th>\n",
       "      <td>5434</td>\n",
       "      <td>City</td>\n",
       "      <td>3.0</td>\n",
       "      <td>Trip Completed</td>\n",
       "      <td>15-07-2016 02:41:38</td>\n",
       "      <td>15-07-2016 03:24:43</td>\n",
       "    </tr>\n",
       "    <tr>\n",
       "      <th>27</th>\n",
       "      <td>5916</td>\n",
       "      <td>City</td>\n",
       "      <td>3.0</td>\n",
       "      <td>Trip Completed</td>\n",
       "      <td>15-07-2016 10:00:43</td>\n",
       "      <td>15-07-2016 10:53:06</td>\n",
       "    </tr>\n",
       "    <tr>\n",
       "      <th>28</th>\n",
       "      <td>669</td>\n",
       "      <td>City</td>\n",
       "      <td>4.0</td>\n",
       "      <td>Trip Completed</td>\n",
       "      <td>11/7/2016 13:08</td>\n",
       "      <td>11/7/2016 13:49</td>\n",
       "    </tr>\n",
       "    <tr>\n",
       "      <th>29</th>\n",
       "      <td>1567</td>\n",
       "      <td>Airport</td>\n",
       "      <td>4.0</td>\n",
       "      <td>Trip Completed</td>\n",
       "      <td>12/7/2016 6:21</td>\n",
       "      <td>12/7/2016 7:10</td>\n",
       "    </tr>\n",
       "    <tr>\n",
       "      <th>...</th>\n",
       "      <td>...</td>\n",
       "      <td>...</td>\n",
       "      <td>...</td>\n",
       "      <td>...</td>\n",
       "      <td>...</td>\n",
       "      <td>...</td>\n",
       "    </tr>\n",
       "    <tr>\n",
       "      <th>6715</th>\n",
       "      <td>6683</td>\n",
       "      <td>City</td>\n",
       "      <td>NaN</td>\n",
       "      <td>No Cars Available</td>\n",
       "      <td>15-07-2016 22:34:01</td>\n",
       "      <td>NaN</td>\n",
       "    </tr>\n",
       "    <tr>\n",
       "      <th>6716</th>\n",
       "      <td>6686</td>\n",
       "      <td>Airport</td>\n",
       "      <td>NaN</td>\n",
       "      <td>No Cars Available</td>\n",
       "      <td>15-07-2016 22:36:13</td>\n",
       "      <td>NaN</td>\n",
       "    </tr>\n",
       "    <tr>\n",
       "      <th>6717</th>\n",
       "      <td>6688</td>\n",
       "      <td>Airport</td>\n",
       "      <td>NaN</td>\n",
       "      <td>No Cars Available</td>\n",
       "      <td>15-07-2016 22:37:37</td>\n",
       "      <td>NaN</td>\n",
       "    </tr>\n",
       "    <tr>\n",
       "      <th>6718</th>\n",
       "      <td>6689</td>\n",
       "      <td>Airport</td>\n",
       "      <td>NaN</td>\n",
       "      <td>No Cars Available</td>\n",
       "      <td>15-07-2016 22:43:46</td>\n",
       "      <td>NaN</td>\n",
       "    </tr>\n",
       "    <tr>\n",
       "      <th>6719</th>\n",
       "      <td>6693</td>\n",
       "      <td>City</td>\n",
       "      <td>NaN</td>\n",
       "      <td>No Cars Available</td>\n",
       "      <td>15-07-2016 22:49:33</td>\n",
       "      <td>NaN</td>\n",
       "    </tr>\n",
       "    <tr>\n",
       "      <th>6720</th>\n",
       "      <td>6696</td>\n",
       "      <td>City</td>\n",
       "      <td>NaN</td>\n",
       "      <td>No Cars Available</td>\n",
       "      <td>15-07-2016 22:49:45</td>\n",
       "      <td>NaN</td>\n",
       "    </tr>\n",
       "    <tr>\n",
       "      <th>6721</th>\n",
       "      <td>6697</td>\n",
       "      <td>Airport</td>\n",
       "      <td>NaN</td>\n",
       "      <td>No Cars Available</td>\n",
       "      <td>15-07-2016 22:51:18</td>\n",
       "      <td>NaN</td>\n",
       "    </tr>\n",
       "    <tr>\n",
       "      <th>6722</th>\n",
       "      <td>6709</td>\n",
       "      <td>Airport</td>\n",
       "      <td>NaN</td>\n",
       "      <td>No Cars Available</td>\n",
       "      <td>15-07-2016 22:56:00</td>\n",
       "      <td>NaN</td>\n",
       "    </tr>\n",
       "    <tr>\n",
       "      <th>6723</th>\n",
       "      <td>6706</td>\n",
       "      <td>Airport</td>\n",
       "      <td>NaN</td>\n",
       "      <td>No Cars Available</td>\n",
       "      <td>15-07-2016 22:58:15</td>\n",
       "      <td>NaN</td>\n",
       "    </tr>\n",
       "    <tr>\n",
       "      <th>6724</th>\n",
       "      <td>6708</td>\n",
       "      <td>City</td>\n",
       "      <td>NaN</td>\n",
       "      <td>No Cars Available</td>\n",
       "      <td>15-07-2016 23:03:23</td>\n",
       "      <td>NaN</td>\n",
       "    </tr>\n",
       "    <tr>\n",
       "      <th>6725</th>\n",
       "      <td>6713</td>\n",
       "      <td>City</td>\n",
       "      <td>NaN</td>\n",
       "      <td>No Cars Available</td>\n",
       "      <td>15-07-2016 23:08:14</td>\n",
       "      <td>NaN</td>\n",
       "    </tr>\n",
       "    <tr>\n",
       "      <th>6726</th>\n",
       "      <td>6715</td>\n",
       "      <td>City</td>\n",
       "      <td>NaN</td>\n",
       "      <td>No Cars Available</td>\n",
       "      <td>15-07-2016 23:11:41</td>\n",
       "      <td>NaN</td>\n",
       "    </tr>\n",
       "    <tr>\n",
       "      <th>6727</th>\n",
       "      <td>6716</td>\n",
       "      <td>City</td>\n",
       "      <td>NaN</td>\n",
       "      <td>No Cars Available</td>\n",
       "      <td>15-07-2016 23:14:36</td>\n",
       "      <td>NaN</td>\n",
       "    </tr>\n",
       "    <tr>\n",
       "      <th>6728</th>\n",
       "      <td>6718</td>\n",
       "      <td>Airport</td>\n",
       "      <td>NaN</td>\n",
       "      <td>No Cars Available</td>\n",
       "      <td>15-07-2016 23:14:39</td>\n",
       "      <td>NaN</td>\n",
       "    </tr>\n",
       "    <tr>\n",
       "      <th>6729</th>\n",
       "      <td>6720</td>\n",
       "      <td>City</td>\n",
       "      <td>NaN</td>\n",
       "      <td>No Cars Available</td>\n",
       "      <td>15-07-2016 23:16:48</td>\n",
       "      <td>NaN</td>\n",
       "    </tr>\n",
       "    <tr>\n",
       "      <th>6730</th>\n",
       "      <td>6722</td>\n",
       "      <td>Airport</td>\n",
       "      <td>NaN</td>\n",
       "      <td>No Cars Available</td>\n",
       "      <td>15-07-2016 23:18:21</td>\n",
       "      <td>NaN</td>\n",
       "    </tr>\n",
       "    <tr>\n",
       "      <th>6731</th>\n",
       "      <td>6725</td>\n",
       "      <td>Airport</td>\n",
       "      <td>NaN</td>\n",
       "      <td>No Cars Available</td>\n",
       "      <td>15-07-2016 23:21:53</td>\n",
       "      <td>NaN</td>\n",
       "    </tr>\n",
       "    <tr>\n",
       "      <th>6732</th>\n",
       "      <td>6728</td>\n",
       "      <td>City</td>\n",
       "      <td>NaN</td>\n",
       "      <td>No Cars Available</td>\n",
       "      <td>15-07-2016 23:26:50</td>\n",
       "      <td>NaN</td>\n",
       "    </tr>\n",
       "    <tr>\n",
       "      <th>6733</th>\n",
       "      <td>6730</td>\n",
       "      <td>Airport</td>\n",
       "      <td>NaN</td>\n",
       "      <td>No Cars Available</td>\n",
       "      <td>15-07-2016 23:27:55</td>\n",
       "      <td>NaN</td>\n",
       "    </tr>\n",
       "    <tr>\n",
       "      <th>6734</th>\n",
       "      <td>6732</td>\n",
       "      <td>Airport</td>\n",
       "      <td>NaN</td>\n",
       "      <td>No Cars Available</td>\n",
       "      <td>15-07-2016 23:35:50</td>\n",
       "      <td>NaN</td>\n",
       "    </tr>\n",
       "    <tr>\n",
       "      <th>6735</th>\n",
       "      <td>6737</td>\n",
       "      <td>Airport</td>\n",
       "      <td>NaN</td>\n",
       "      <td>No Cars Available</td>\n",
       "      <td>15-07-2016 23:39:15</td>\n",
       "      <td>NaN</td>\n",
       "    </tr>\n",
       "    <tr>\n",
       "      <th>6736</th>\n",
       "      <td>6744</td>\n",
       "      <td>Airport</td>\n",
       "      <td>NaN</td>\n",
       "      <td>No Cars Available</td>\n",
       "      <td>15-07-2016 23:42:51</td>\n",
       "      <td>NaN</td>\n",
       "    </tr>\n",
       "    <tr>\n",
       "      <th>6737</th>\n",
       "      <td>6740</td>\n",
       "      <td>City</td>\n",
       "      <td>NaN</td>\n",
       "      <td>No Cars Available</td>\n",
       "      <td>15-07-2016 23:43:54</td>\n",
       "      <td>NaN</td>\n",
       "    </tr>\n",
       "    <tr>\n",
       "      <th>6738</th>\n",
       "      <td>6746</td>\n",
       "      <td>City</td>\n",
       "      <td>NaN</td>\n",
       "      <td>No Cars Available</td>\n",
       "      <td>15-07-2016 23:46:03</td>\n",
       "      <td>NaN</td>\n",
       "    </tr>\n",
       "    <tr>\n",
       "      <th>6739</th>\n",
       "      <td>6739</td>\n",
       "      <td>City</td>\n",
       "      <td>NaN</td>\n",
       "      <td>No Cars Available</td>\n",
       "      <td>15-07-2016 23:46:20</td>\n",
       "      <td>NaN</td>\n",
       "    </tr>\n",
       "    <tr>\n",
       "      <th>6740</th>\n",
       "      <td>6745</td>\n",
       "      <td>City</td>\n",
       "      <td>NaN</td>\n",
       "      <td>No Cars Available</td>\n",
       "      <td>15-07-2016 23:49:03</td>\n",
       "      <td>NaN</td>\n",
       "    </tr>\n",
       "    <tr>\n",
       "      <th>6741</th>\n",
       "      <td>6752</td>\n",
       "      <td>Airport</td>\n",
       "      <td>NaN</td>\n",
       "      <td>No Cars Available</td>\n",
       "      <td>15-07-2016 23:50:05</td>\n",
       "      <td>NaN</td>\n",
       "    </tr>\n",
       "    <tr>\n",
       "      <th>6742</th>\n",
       "      <td>6751</td>\n",
       "      <td>City</td>\n",
       "      <td>NaN</td>\n",
       "      <td>No Cars Available</td>\n",
       "      <td>15-07-2016 23:52:06</td>\n",
       "      <td>NaN</td>\n",
       "    </tr>\n",
       "    <tr>\n",
       "      <th>6743</th>\n",
       "      <td>6754</td>\n",
       "      <td>City</td>\n",
       "      <td>NaN</td>\n",
       "      <td>No Cars Available</td>\n",
       "      <td>15-07-2016 23:54:39</td>\n",
       "      <td>NaN</td>\n",
       "    </tr>\n",
       "    <tr>\n",
       "      <th>6744</th>\n",
       "      <td>6753</td>\n",
       "      <td>Airport</td>\n",
       "      <td>NaN</td>\n",
       "      <td>No Cars Available</td>\n",
       "      <td>15-07-2016 23:55:03</td>\n",
       "      <td>NaN</td>\n",
       "    </tr>\n",
       "  </tbody>\n",
       "</table>\n",
       "<p>6745 rows × 6 columns</p>\n",
       "</div>"
      ],
      "text/plain": [
       "      Request id Pickup point  Driver id             Status  \\\n",
       "0            619      Airport        1.0     Trip Completed   \n",
       "1            867      Airport        1.0     Trip Completed   \n",
       "2           1807         City        1.0     Trip Completed   \n",
       "3           2532      Airport        1.0     Trip Completed   \n",
       "4           3112         City        1.0     Trip Completed   \n",
       "5           3879      Airport        1.0     Trip Completed   \n",
       "6           4270      Airport        1.0     Trip Completed   \n",
       "7           5510      Airport        1.0     Trip Completed   \n",
       "8           6248         City        1.0     Trip Completed   \n",
       "9            267         City        2.0     Trip Completed   \n",
       "10          1467      Airport        2.0     Trip Completed   \n",
       "11          1983         City        2.0     Trip Completed   \n",
       "12          2784      Airport        2.0     Trip Completed   \n",
       "13          3075         City        2.0     Trip Completed   \n",
       "14          3379         City        2.0     Trip Completed   \n",
       "15          3482      Airport        2.0     Trip Completed   \n",
       "16          4652         City        2.0     Trip Completed   \n",
       "17          5335      Airport        2.0     Trip Completed   \n",
       "18           535      Airport        3.0     Trip Completed   \n",
       "19           960      Airport        3.0     Trip Completed   \n",
       "20          1934      Airport        3.0     Trip Completed   \n",
       "21          2083      Airport        3.0     Trip Completed   \n",
       "22          2211      Airport        3.0     Trip Completed   \n",
       "23          3096      Airport        3.0     Trip Completed   \n",
       "24          3881      Airport        3.0     Trip Completed   \n",
       "25          5254         City        3.0     Trip Completed   \n",
       "26          5434         City        3.0     Trip Completed   \n",
       "27          5916         City        3.0     Trip Completed   \n",
       "28           669         City        4.0     Trip Completed   \n",
       "29          1567      Airport        4.0     Trip Completed   \n",
       "...          ...          ...        ...                ...   \n",
       "6715        6683         City        NaN  No Cars Available   \n",
       "6716        6686      Airport        NaN  No Cars Available   \n",
       "6717        6688      Airport        NaN  No Cars Available   \n",
       "6718        6689      Airport        NaN  No Cars Available   \n",
       "6719        6693         City        NaN  No Cars Available   \n",
       "6720        6696         City        NaN  No Cars Available   \n",
       "6721        6697      Airport        NaN  No Cars Available   \n",
       "6722        6709      Airport        NaN  No Cars Available   \n",
       "6723        6706      Airport        NaN  No Cars Available   \n",
       "6724        6708         City        NaN  No Cars Available   \n",
       "6725        6713         City        NaN  No Cars Available   \n",
       "6726        6715         City        NaN  No Cars Available   \n",
       "6727        6716         City        NaN  No Cars Available   \n",
       "6728        6718      Airport        NaN  No Cars Available   \n",
       "6729        6720         City        NaN  No Cars Available   \n",
       "6730        6722      Airport        NaN  No Cars Available   \n",
       "6731        6725      Airport        NaN  No Cars Available   \n",
       "6732        6728         City        NaN  No Cars Available   \n",
       "6733        6730      Airport        NaN  No Cars Available   \n",
       "6734        6732      Airport        NaN  No Cars Available   \n",
       "6735        6737      Airport        NaN  No Cars Available   \n",
       "6736        6744      Airport        NaN  No Cars Available   \n",
       "6737        6740         City        NaN  No Cars Available   \n",
       "6738        6746         City        NaN  No Cars Available   \n",
       "6739        6739         City        NaN  No Cars Available   \n",
       "6740        6745         City        NaN  No Cars Available   \n",
       "6741        6752      Airport        NaN  No Cars Available   \n",
       "6742        6751         City        NaN  No Cars Available   \n",
       "6743        6754         City        NaN  No Cars Available   \n",
       "6744        6753      Airport        NaN  No Cars Available   \n",
       "\n",
       "        Request timestamp       Drop timestamp  \n",
       "0         11/7/2016 11:51      11/7/2016 13:00  \n",
       "1         11/7/2016 17:57      11/7/2016 18:47  \n",
       "2          12/7/2016 9:17       12/7/2016 9:58  \n",
       "3         12/7/2016 21:08      12/7/2016 22:03  \n",
       "4     13-07-2016 08:33:16  13-07-2016 09:25:47  \n",
       "5     13-07-2016 21:57:28  13-07-2016 22:28:59  \n",
       "6     14-07-2016 06:15:32  14-07-2016 07:13:15  \n",
       "7     15-07-2016 05:11:52  15-07-2016 06:07:52  \n",
       "8     15-07-2016 17:57:27  15-07-2016 18:50:51  \n",
       "9          11/7/2016 6:46       11/7/2016 7:25  \n",
       "10         12/7/2016 5:08       12/7/2016 6:02  \n",
       "11        12/7/2016 12:30      12/7/2016 12:57  \n",
       "12    13-07-2016 04:49:20  13-07-2016 05:23:03  \n",
       "13    13-07-2016 08:02:53  13-07-2016 09:16:19  \n",
       "14    13-07-2016 14:23:02  13-07-2016 15:35:18  \n",
       "15    13-07-2016 17:23:18  13-07-2016 18:20:51  \n",
       "16    14-07-2016 12:01:02  14-07-2016 12:36:46  \n",
       "17    14-07-2016 22:24:13  14-07-2016 23:18:52  \n",
       "18        11/7/2016 10:00      11/7/2016 10:31  \n",
       "19        11/7/2016 18:45      11/7/2016 19:23  \n",
       "20        12/7/2016 11:17      12/7/2016 12:23  \n",
       "21        12/7/2016 15:46      12/7/2016 16:40  \n",
       "22        12/7/2016 18:00      12/7/2016 18:28  \n",
       "23    13-07-2016 08:17:29  13-07-2016 09:22:37  \n",
       "24    13-07-2016 21:54:18  13-07-2016 22:51:23  \n",
       "25    14-07-2016 21:23:03  14-07-2016 22:25:19  \n",
       "26    15-07-2016 02:41:38  15-07-2016 03:24:43  \n",
       "27    15-07-2016 10:00:43  15-07-2016 10:53:06  \n",
       "28        11/7/2016 13:08      11/7/2016 13:49  \n",
       "29         12/7/2016 6:21       12/7/2016 7:10  \n",
       "...                   ...                  ...  \n",
       "6715  15-07-2016 22:34:01                  NaN  \n",
       "6716  15-07-2016 22:36:13                  NaN  \n",
       "6717  15-07-2016 22:37:37                  NaN  \n",
       "6718  15-07-2016 22:43:46                  NaN  \n",
       "6719  15-07-2016 22:49:33                  NaN  \n",
       "6720  15-07-2016 22:49:45                  NaN  \n",
       "6721  15-07-2016 22:51:18                  NaN  \n",
       "6722  15-07-2016 22:56:00                  NaN  \n",
       "6723  15-07-2016 22:58:15                  NaN  \n",
       "6724  15-07-2016 23:03:23                  NaN  \n",
       "6725  15-07-2016 23:08:14                  NaN  \n",
       "6726  15-07-2016 23:11:41                  NaN  \n",
       "6727  15-07-2016 23:14:36                  NaN  \n",
       "6728  15-07-2016 23:14:39                  NaN  \n",
       "6729  15-07-2016 23:16:48                  NaN  \n",
       "6730  15-07-2016 23:18:21                  NaN  \n",
       "6731  15-07-2016 23:21:53                  NaN  \n",
       "6732  15-07-2016 23:26:50                  NaN  \n",
       "6733  15-07-2016 23:27:55                  NaN  \n",
       "6734  15-07-2016 23:35:50                  NaN  \n",
       "6735  15-07-2016 23:39:15                  NaN  \n",
       "6736  15-07-2016 23:42:51                  NaN  \n",
       "6737  15-07-2016 23:43:54                  NaN  \n",
       "6738  15-07-2016 23:46:03                  NaN  \n",
       "6739  15-07-2016 23:46:20                  NaN  \n",
       "6740  15-07-2016 23:49:03                  NaN  \n",
       "6741  15-07-2016 23:50:05                  NaN  \n",
       "6742  15-07-2016 23:52:06                  NaN  \n",
       "6743  15-07-2016 23:54:39                  NaN  \n",
       "6744  15-07-2016 23:55:03                  NaN  \n",
       "\n",
       "[6745 rows x 6 columns]"
      ]
     },
     "execution_count": 6,
     "metadata": {},
     "output_type": "execute_result"
    }
   ],
   "source": [
    "uber"
   ]
  },
  {
   "cell_type": "code",
   "execution_count": 7,
   "metadata": {},
   "outputs": [
    {
     "data": {
      "text/plain": [
       "0"
      ]
     },
     "execution_count": 7,
     "metadata": {},
     "output_type": "execute_result"
    }
   ],
   "source": [
    "# If duplcate requests are recorded\n",
    "sum(uber['Request id'].value_counts()>1)"
   ]
  },
  {
   "cell_type": "code",
   "execution_count": null,
   "metadata": {},
   "outputs": [],
   "source": []
  },
  {
   "cell_type": "markdown",
   "metadata": {},
   "source": [
    "### Data Cleaning"
   ]
  },
  {
   "cell_type": "markdown",
   "metadata": {},
   "source": [
    "Checking for null value"
   ]
  },
  {
   "cell_type": "code",
   "execution_count": 8,
   "metadata": {},
   "outputs": [
    {
     "data": {
      "text/plain": [
       "Request id              0\n",
       "Pickup point            0\n",
       "Driver id            2650\n",
       "Status                  0\n",
       "Request timestamp       0\n",
       "Drop timestamp       3914\n",
       "dtype: int64"
      ]
     },
     "execution_count": 8,
     "metadata": {},
     "output_type": "execute_result"
    }
   ],
   "source": [
    "uber.isnull().sum()"
   ]
  },
  {
   "cell_type": "code",
   "execution_count": 9,
   "metadata": {},
   "outputs": [
    {
     "name": "stdout",
     "output_type": "stream",
     "text": [
      "Trip Completed       2831\n",
      "No Cars Available    2650\n",
      "Cancelled            1264\n",
      "Name: Status, dtype: int64\n",
      " - For \"No car available\"\n",
      "Request id              0\n",
      "Pickup point            0\n",
      "Driver id            2650\n",
      "Status                  0\n",
      "Request timestamp       0\n",
      "Drop timestamp       2650\n",
      "dtype: int64\n",
      " - For \"Cancelled\"\n",
      "Request id              0\n",
      "Pickup point            0\n",
      "Driver id               0\n",
      "Status                  0\n",
      "Request timestamp       0\n",
      "Drop timestamp       1264\n",
      "dtype: int64\n",
      "3914\n"
     ]
    }
   ],
   "source": [
    "print(uber['Status'].value_counts())\n",
    "print(' - For \"No car available\"')\n",
    "print(uber[uber['Status']=='No Cars Available'].isnull().sum())\n",
    "print(' - For \"Cancelled\"')\n",
    "print(uber[uber['Status']=='Cancelled'].isnull().sum())\n",
    "print(2650+1264)\n",
    "# All the blank values are valid"
   ]
  },
  {
   "cell_type": "code",
   "execution_count": 10,
   "metadata": {},
   "outputs": [],
   "source": [
    "# Driver id put as 0 if NA\n",
    "uber['Driver id'].fillna(0,inplace=True)"
   ]
  },
  {
   "cell_type": "markdown",
   "metadata": {},
   "source": [
    "Changing of data type for below features:\n",
    "1. Request id\n",
    "2. Driver id\n",
    "3. Request timestamp\n",
    "4. Drop timestamp"
   ]
  },
  {
   "cell_type": "code",
   "execution_count": 11,
   "metadata": {},
   "outputs": [],
   "source": [
    "# converting Requestid to categorical variable\n",
    "uber['Request id'] = uber['Request id'].astype(str)"
   ]
  },
  {
   "cell_type": "code",
   "execution_count": 12,
   "metadata": {},
   "outputs": [],
   "source": [
    "# converting Driverid to categorical variable\n",
    "uber['Driver id'] = uber['Driver id'].astype(int)\n",
    "uber['Driver id'] = uber['Driver id'].astype(str)"
   ]
  },
  {
   "cell_type": "code",
   "execution_count": 13,
   "metadata": {},
   "outputs": [],
   "source": [
    "# converting Request timestamp to datetime\n",
    "uber['Request timestamp'] = pd.to_datetime(uber['Request timestamp'],dayfirst=True)"
   ]
  },
  {
   "cell_type": "code",
   "execution_count": 14,
   "metadata": {},
   "outputs": [],
   "source": [
    "# converting Drop timestamp to datetime\n",
    "uber['Drop timestamp'] = pd.to_datetime(uber['Drop timestamp'],dayfirst=True)"
   ]
  },
  {
   "cell_type": "markdown",
   "metadata": {},
   "source": [
    "Checking if Drop time is before request time"
   ]
  },
  {
   "cell_type": "code",
   "execution_count": 16,
   "metadata": {},
   "outputs": [
    {
     "data": {
      "text/html": [
       "<div>\n",
       "<style scoped>\n",
       "    .dataframe tbody tr th:only-of-type {\n",
       "        vertical-align: middle;\n",
       "    }\n",
       "\n",
       "    .dataframe tbody tr th {\n",
       "        vertical-align: top;\n",
       "    }\n",
       "\n",
       "    .dataframe thead th {\n",
       "        text-align: right;\n",
       "    }\n",
       "</style>\n",
       "<table border=\"1\" class=\"dataframe\">\n",
       "  <thead>\n",
       "    <tr style=\"text-align: right;\">\n",
       "      <th></th>\n",
       "      <th>Request id</th>\n",
       "      <th>Pickup point</th>\n",
       "      <th>Driver id</th>\n",
       "      <th>Status</th>\n",
       "      <th>Request timestamp</th>\n",
       "      <th>Drop timestamp</th>\n",
       "    </tr>\n",
       "  </thead>\n",
       "  <tbody>\n",
       "  </tbody>\n",
       "</table>\n",
       "</div>"
      ],
      "text/plain": [
       "Empty DataFrame\n",
       "Columns: [Request id, Pickup point, Driver id, Status, Request timestamp, Drop timestamp]\n",
       "Index: []"
      ]
     },
     "execution_count": 16,
     "metadata": {},
     "output_type": "execute_result"
    }
   ],
   "source": [
    "uber.loc[uber['Drop timestamp']<uber['Request timestamp'],:]\n",
    "# There are no records with older request date than drop date."
   ]
  },
  {
   "cell_type": "markdown",
   "metadata": {},
   "source": [
    "Checking if difference between Request and drop is not huge."
   ]
  },
  {
   "cell_type": "code",
   "execution_count": 17,
   "metadata": {},
   "outputs": [
    {
     "data": {
      "text/html": [
       "<div>\n",
       "<style scoped>\n",
       "    .dataframe tbody tr th:only-of-type {\n",
       "        vertical-align: middle;\n",
       "    }\n",
       "\n",
       "    .dataframe tbody tr th {\n",
       "        vertical-align: top;\n",
       "    }\n",
       "\n",
       "    .dataframe thead th {\n",
       "        text-align: right;\n",
       "    }\n",
       "</style>\n",
       "<table border=\"1\" class=\"dataframe\">\n",
       "  <thead>\n",
       "    <tr style=\"text-align: right;\">\n",
       "      <th></th>\n",
       "      <th>Request id</th>\n",
       "      <th>Pickup point</th>\n",
       "      <th>Driver id</th>\n",
       "      <th>Status</th>\n",
       "      <th>Request timestamp</th>\n",
       "      <th>Drop timestamp</th>\n",
       "    </tr>\n",
       "  </thead>\n",
       "  <tbody>\n",
       "  </tbody>\n",
       "</table>\n",
       "</div>"
      ],
      "text/plain": [
       "Empty DataFrame\n",
       "Columns: [Request id, Pickup point, Driver id, Status, Request timestamp, Drop timestamp]\n",
       "Index: []"
      ]
     },
     "execution_count": 17,
     "metadata": {},
     "output_type": "execute_result"
    }
   ],
   "source": [
    "uber[(uber['Drop timestamp']-uber['Request timestamp'])>dt.timedelta(1)]\n",
    "# It certainly can't take more than one day to fro airport."
   ]
  },
  {
   "cell_type": "code",
   "execution_count": null,
   "metadata": {},
   "outputs": [],
   "source": []
  },
  {
   "cell_type": "markdown",
   "metadata": {},
   "source": [
    "### Derived Metrics"
   ]
  },
  {
   "cell_type": "markdown",
   "metadata": {},
   "source": [
    "We can bin the request time into various categories:\n",
    "1. Early Morning: 00:00:00 to 03:00:00\n",
    "2. Mid Morning: 03:00:01 to 06:00:00\n",
    "3. Late Morning: 06:00:01 to 09:00:00\n",
    "4. Before Noon: 09:00:01 to 12:00:00\n",
    "5. After Noon: 12:00:01 to 15:00:00\n",
    "6. Evening: 15:00:01 to 18:00:00\n",
    "7. Late Evening: 18:00:01 to 21:00:00\n",
    "8. Night: 21:00:01 to 23:59:59"
   ]
  },
  {
   "cell_type": "code",
   "execution_count": 18,
   "metadata": {},
   "outputs": [],
   "source": [
    "# Binning time into part of the day as per above\n",
    "uber.loc[(uber.loc[:,'Request timestamp'].dt.time >= dt.time(0,0,0)) & (uber.loc[:,'Request timestamp'].dt.time <= dt.time(3,0,0)),'Day_part'] = 'Early Morning'\n",
    "uber.loc[(uber.loc[:,'Request timestamp'].dt.time > dt.time(3,0,1)) & (uber.loc[:,'Request timestamp'].dt.time <= dt.time(6,0,0)),'Day_part'] = 'Mid Morning'\n",
    "uber.loc[(uber.loc[:,'Request timestamp'].dt.time > dt.time(6,0,1)) & (uber.loc[:,'Request timestamp'].dt.time <= dt.time(9,0,0)),'Day_part'] = 'Late Morning'\n",
    "uber.loc[(uber.loc[:,'Request timestamp'].dt.time > dt.time(9,0,1)) & (uber.loc[:,'Request timestamp'].dt.time <= dt.time(12,0,0)),'Day_part'] = 'Before Noon'\n",
    "uber.loc[(uber.loc[:,'Request timestamp'].dt.time > dt.time(12,0,1)) & (uber.loc[:,'Request timestamp'].dt.time <= dt.time(15,0,0)),'Day_part'] = 'After Noon'\n",
    "uber.loc[(uber.loc[:,'Request timestamp'].dt.time > dt.time(15,0,1)) & (uber.loc[:,'Request timestamp'].dt.time <= dt.time(18,0,0)),'Day_part'] = 'Evening'\n",
    "uber.loc[(uber.loc[:,'Request timestamp'].dt.time > dt.time(18,0,1)) & (uber.loc[:,'Request timestamp'].dt.time <= dt.time(21,0,0)),'Day_part'] = 'Late Evening'\n",
    "uber.loc[(uber.loc[:,'Request timestamp'].dt.time > dt.time(21,0,1)) & (uber.loc[:,'Request timestamp'].dt.time <= dt.time(23,59,59)),'Day_part'] = 'Night'"
   ]
  },
  {
   "cell_type": "markdown",
   "metadata": {},
   "source": [
    "To check how much time each ride took (in Min):"
   ]
  },
  {
   "cell_type": "code",
   "execution_count": 19,
   "metadata": {},
   "outputs": [],
   "source": [
    "uber['Ride_time'] = uber['Drop timestamp'] - uber['Request timestamp']"
   ]
  },
  {
   "cell_type": "code",
   "execution_count": 20,
   "metadata": {},
   "outputs": [],
   "source": [
    "uber['Ride_time'] = pd.DatetimeIndex(uber['Ride_time']).hour*60 + pd.DatetimeIndex(uber['Ride_time']).minute"
   ]
  },
  {
   "cell_type": "code",
   "execution_count": 21,
   "metadata": {},
   "outputs": [],
   "source": [
    "uber.loc[uber['Pickup point']=='Airport','Path'] = 'Airport_to_City'\n",
    "uber.loc[uber['Pickup point']=='City','Path'] = 'City_to_Airport'"
   ]
  },
  {
   "cell_type": "code",
   "execution_count": 22,
   "metadata": {},
   "outputs": [
    {
     "data": {
      "text/html": [
       "<div>\n",
       "<style scoped>\n",
       "    .dataframe tbody tr th:only-of-type {\n",
       "        vertical-align: middle;\n",
       "    }\n",
       "\n",
       "    .dataframe tbody tr th {\n",
       "        vertical-align: top;\n",
       "    }\n",
       "\n",
       "    .dataframe thead th {\n",
       "        text-align: right;\n",
       "    }\n",
       "</style>\n",
       "<table border=\"1\" class=\"dataframe\">\n",
       "  <thead>\n",
       "    <tr style=\"text-align: right;\">\n",
       "      <th></th>\n",
       "      <th>Request id</th>\n",
       "      <th>Pickup point</th>\n",
       "      <th>Driver id</th>\n",
       "      <th>Status</th>\n",
       "      <th>Request timestamp</th>\n",
       "      <th>Drop timestamp</th>\n",
       "      <th>Day_part</th>\n",
       "      <th>Ride_time</th>\n",
       "      <th>Path</th>\n",
       "    </tr>\n",
       "  </thead>\n",
       "  <tbody>\n",
       "    <tr>\n",
       "      <th>0</th>\n",
       "      <td>619</td>\n",
       "      <td>Airport</td>\n",
       "      <td>1</td>\n",
       "      <td>Trip Completed</td>\n",
       "      <td>2016-07-11 11:51:00</td>\n",
       "      <td>2016-07-11 13:00:00</td>\n",
       "      <td>Before Noon</td>\n",
       "      <td>69.0</td>\n",
       "      <td>Airport_to_City</td>\n",
       "    </tr>\n",
       "    <tr>\n",
       "      <th>1</th>\n",
       "      <td>867</td>\n",
       "      <td>Airport</td>\n",
       "      <td>1</td>\n",
       "      <td>Trip Completed</td>\n",
       "      <td>2016-07-11 17:57:00</td>\n",
       "      <td>2016-07-11 18:47:00</td>\n",
       "      <td>Evening</td>\n",
       "      <td>50.0</td>\n",
       "      <td>Airport_to_City</td>\n",
       "    </tr>\n",
       "    <tr>\n",
       "      <th>2</th>\n",
       "      <td>1807</td>\n",
       "      <td>City</td>\n",
       "      <td>1</td>\n",
       "      <td>Trip Completed</td>\n",
       "      <td>2016-07-12 09:17:00</td>\n",
       "      <td>2016-07-12 09:58:00</td>\n",
       "      <td>Before Noon</td>\n",
       "      <td>41.0</td>\n",
       "      <td>City_to_Airport</td>\n",
       "    </tr>\n",
       "    <tr>\n",
       "      <th>3</th>\n",
       "      <td>2532</td>\n",
       "      <td>Airport</td>\n",
       "      <td>1</td>\n",
       "      <td>Trip Completed</td>\n",
       "      <td>2016-07-12 21:08:00</td>\n",
       "      <td>2016-07-12 22:03:00</td>\n",
       "      <td>Night</td>\n",
       "      <td>55.0</td>\n",
       "      <td>Airport_to_City</td>\n",
       "    </tr>\n",
       "    <tr>\n",
       "      <th>4</th>\n",
       "      <td>3112</td>\n",
       "      <td>City</td>\n",
       "      <td>1</td>\n",
       "      <td>Trip Completed</td>\n",
       "      <td>2016-07-13 08:33:16</td>\n",
       "      <td>2016-07-13 09:25:47</td>\n",
       "      <td>Late Morning</td>\n",
       "      <td>52.0</td>\n",
       "      <td>City_to_Airport</td>\n",
       "    </tr>\n",
       "  </tbody>\n",
       "</table>\n",
       "</div>"
      ],
      "text/plain": [
       "  Request id Pickup point Driver id          Status   Request timestamp  \\\n",
       "0        619      Airport         1  Trip Completed 2016-07-11 11:51:00   \n",
       "1        867      Airport         1  Trip Completed 2016-07-11 17:57:00   \n",
       "2       1807         City         1  Trip Completed 2016-07-12 09:17:00   \n",
       "3       2532      Airport         1  Trip Completed 2016-07-12 21:08:00   \n",
       "4       3112         City         1  Trip Completed 2016-07-13 08:33:16   \n",
       "\n",
       "       Drop timestamp      Day_part  Ride_time             Path  \n",
       "0 2016-07-11 13:00:00   Before Noon       69.0  Airport_to_City  \n",
       "1 2016-07-11 18:47:00       Evening       50.0  Airport_to_City  \n",
       "2 2016-07-12 09:58:00   Before Noon       41.0  City_to_Airport  \n",
       "3 2016-07-12 22:03:00         Night       55.0  Airport_to_City  \n",
       "4 2016-07-13 09:25:47  Late Morning       52.0  City_to_Airport  "
      ]
     },
     "execution_count": 22,
     "metadata": {},
     "output_type": "execute_result"
    }
   ],
   "source": [
    "uber.head()"
   ]
  },
  {
   "cell_type": "code",
   "execution_count": 23,
   "metadata": {},
   "outputs": [
    {
     "name": "stdout",
     "output_type": "stream",
     "text": [
      "<class 'pandas.core.frame.DataFrame'>\n",
      "RangeIndex: 6745 entries, 0 to 6744\n",
      "Data columns (total 9 columns):\n",
      "Request id           6745 non-null object\n",
      "Pickup point         6745 non-null object\n",
      "Driver id            6745 non-null object\n",
      "Status               6745 non-null object\n",
      "Request timestamp    6745 non-null datetime64[ns]\n",
      "Drop timestamp       2831 non-null datetime64[ns]\n",
      "Day_part             6745 non-null object\n",
      "Ride_time            2831 non-null float64\n",
      "Path                 6745 non-null object\n",
      "dtypes: datetime64[ns](2), float64(1), object(6)\n",
      "memory usage: 474.3+ KB\n"
     ]
    }
   ],
   "source": [
    "uber.info()"
   ]
  },
  {
   "cell_type": "markdown",
   "metadata": {},
   "source": [
    "### Univariate Analysis"
   ]
  },
  {
   "cell_type": "markdown",
   "metadata": {},
   "source": [
    "Lets take each of the variable and find the distribution"
   ]
  },
  {
   "cell_type": "code",
   "execution_count": 24,
   "metadata": {},
   "outputs": [
    {
     "data": {
      "text/plain": [
       "<matplotlib.axes._subplots.AxesSubplot at 0x216ae2177f0>"
      ]
     },
     "execution_count": 24,
     "metadata": {},
     "output_type": "execute_result"
    },
    {
     "data": {
      "image/png": "[encoded data removed]",
      "text/plain": [
       "<matplotlib.figure.Figure at 0x216ae1df4e0>"
      ]
     },
     "metadata": {},
     "output_type": "display_data"
    }
   ],
   "source": [
    "# Count on Status\n",
    "uber['Status'].value_counts().plot(kind='bar')"
   ]
  },
  {
   "cell_type": "code",
   "execution_count": 25,
   "metadata": {},
   "outputs": [
    {
     "data": {
      "text/plain": [
       "<matplotlib.axes._subplots.AxesSubplot at 0x216ae25f358>"
      ]
     },
     "execution_count": 25,
     "metadata": {},
     "output_type": "execute_result"
    },
    {
     "data": {
      "image/png": "[encoded data removed]",
      "text/plain": [
       "<matplotlib.figure.Figure at 0x216ae217c50>"
      ]
     },
     "metadata": {},
     "output_type": "display_data"
    }
   ],
   "source": [
    "# Count on Trip Path\n",
    "uber['Path'].value_counts().plot(kind='bar')"
   ]
  },
  {
   "cell_type": "code",
   "execution_count": 26,
   "metadata": {},
   "outputs": [
    {
     "data": {
      "text/plain": [
       "Late Evening     1475\n",
       "Late Morning     1226\n",
       "Night             944\n",
       "Before Noon       845\n",
       "Evening           749\n",
       "Mid Morning       741\n",
       "After Noon        482\n",
       "Early Morning     283\n",
       "Name: Day_part, dtype: int64"
      ]
     },
     "execution_count": 26,
     "metadata": {},
     "output_type": "execute_result"
    }
   ],
   "source": [
    "# Count on part of the day\n",
    "uber['Day_part'].value_counts()"
   ]
  },
  {
   "cell_type": "code",
   "execution_count": 27,
   "metadata": {},
   "outputs": [
    {
     "data": {
      "text/plain": [
       "<matplotlib.axes._subplots.AxesSubplot at 0x216ae2fb9e8>"
      ]
     },
     "execution_count": 27,
     "metadata": {},
     "output_type": "execute_result"
    },
    {
     "data": {
      "image/png": "[encoded data removed]",
      "text/plain": [
       "<matplotlib.figure.Figure at 0x216ae3b24e0>"
      ]
     },
     "metadata": {},
     "output_type": "display_data"
    }
   ],
   "source": [
    "# Count on part of the day\n",
    "uber['Day_part'].value_counts().plot(kind='barh')"
   ]
  },
  {
   "cell_type": "code",
   "execution_count": 28,
   "metadata": {},
   "outputs": [
    {
     "data": {
      "text/plain": [
       "<matplotlib.axes._subplots.AxesSubplot at 0x216ae3c9fd0>"
      ]
     },
     "execution_count": 28,
     "metadata": {},
     "output_type": "execute_result"
    },
    {
     "data": {
      "image/png": "[encoded data removed]",
      "text/plain": [
       "<matplotlib.figure.Figure at 0x216ae42b0f0>"
      ]
     },
     "metadata": {},
     "output_type": "display_data"
    }
   ],
   "source": [
    "# Histogram on ride time\n",
    "uber['Ride_time'].hist(bins=10,grid=False)"
   ]
  },
  {
   "cell_type": "markdown",
   "metadata": {},
   "source": [
    "With above Univariate analysis Below points can be concluded:\n",
    "1. No Cabs Available is twice that of cancelled.\n",
    "2. There slightly more requests on City to Airport than Airport to city\n",
    "3. Most of the requests came on Late evenings(6PM to 9PM) followed by Late Morning(6AM to 9AM)\n",
    "4. Majority of trip takes 40 to 60 mins travel duration.\n",
    "\n",
    "Rank of Part of day for requests:\n",
    "1. Late Evening     1475\n",
    "2. Late Morning     1226\n",
    "3. Night             944\n",
    "4. Before Noon       845\n",
    "5. Evening           749\n",
    "6. Mid Morning       741\n",
    "7. After Noon        482\n",
    "8. Early Morning     283"
   ]
  },
  {
   "cell_type": "markdown",
   "metadata": {},
   "source": [
    "### Segmented Analysis"
   ]
  },
  {
   "cell_type": "markdown",
   "metadata": {},
   "source": [
    "Lets see when is the requests are coming in for trips:"
   ]
  },
  {
   "cell_type": "code",
   "execution_count": 29,
   "metadata": {},
   "outputs": [
    {
     "data": {
      "image/png": "[encoded data removed]",
      "text/plain": [
       "<matplotlib.figure.Figure at 0x216ae454f28>"
      ]
     },
     "metadata": {},
     "output_type": "display_data"
    }
   ],
   "source": [
    "# Total requests grouped by Path\n",
    "fig = plt.figure(figsize=(10,6))\n",
    "sns.countplot(y='Day_part',hue='Path',data=uber)\n",
    "plt.title('Requests per day part (fig1)')\n",
    "plt.show()"
   ]
  },
  {
   "cell_type": "code",
   "execution_count": 30,
   "metadata": {},
   "outputs": [
    {
     "data": {
      "image/png": "[encoded data removed]",
      "text/plain": [
       "<matplotlib.figure.Figure at 0x216ae7667f0>"
      ]
     },
     "metadata": {},
     "output_type": "display_data"
    }
   ],
   "source": [
    "# Unfulfilled requests from City to Airport\n",
    "fig = plt.figure(figsize=(10,6))\n",
    "sns.countplot(y='Day_part',hue='Status',data=uber[(uber['Status']!='Trip Completed') & (uber['Path']=='City_to_Airport')])\n",
    "plt.title('Unfulfilled requests City to Airport (fig2)')\n",
    "plt.show()"
   ]
  },
  {
   "cell_type": "code",
   "execution_count": 31,
   "metadata": {},
   "outputs": [
    {
     "data": {
      "image/png": "[encoded data removed]",
      "text/plain": [
       "<matplotlib.figure.Figure at 0x216ae8e7048>"
      ]
     },
     "metadata": {},
     "output_type": "display_data"
    }
   ],
   "source": [
    "# Unfulfilled requests from Airport to City\n",
    "fig = plt.figure(figsize=(10,6))\n",
    "sns.countplot(y='Day_part',hue='Status',data=uber[(uber['Status']!='Trip Completed') & (uber['Path']=='Airport_to_City')])\n",
    "plt.title('Unfulfilled requests Airport to City (fig3)')\n",
    "plt.show()"
   ]
  },
  {
   "cell_type": "markdown",
   "metadata": {},
   "source": [
    "1. Visually identify the most pressing problems for Uber:\n",
    " - High number of requests from Airport to city in **Late Evening and Night** ref.(fig1). But most of them unattended because of **No Cars Available** ref.(fig3)\n",
    " - High number of requests from City to Airport in **Mid Morning, Late Morning and Before Noon** ref.(fig1). But most of them unattended because of **cancellation**.(fig2)\n",
    " - There are high number of Cancellation recorded for City to Airport trip where as Car availability issues for Airport to City trip."
   ]
  },
  {
   "cell_type": "code",
   "execution_count": 32,
   "metadata": {},
   "outputs": [],
   "source": [
    "# Total Metrics for Demand Supply and Gap\n",
    "Total_Demand = uber.groupby('Day_part')['Request id'].agg(['count'])\n",
    "Total_Supply = uber[uber['Status']=='Trip Completed'].groupby('Day_part')['Request id'].agg(['count'])\n",
    "DS_Total = pd.concat([Total_Demand['count'],Total_Supply['count']],axis=1,keys=['Demand','Supply'])\n",
    "DS_Total['Gap'] = DS_Total['Demand']-DS_Total['Supply']"
   ]
  },
  {
   "cell_type": "code",
   "execution_count": 33,
   "metadata": {},
   "outputs": [],
   "source": [
    "# Airport Metrics for Demand, Supply, Gap, Cancelled and Unavailable\n",
    "Airport_Demand = uber[uber['Path']=='Airport_to_City'].groupby('Day_part')['Request id'].agg(['count'])\n",
    "Airport_Supply = uber[(uber['Path']=='Airport_to_City')&(uber['Status']=='Trip Completed')].groupby('Day_part')['Request id'].agg(['count'])\n",
    "Airport_Cancelled = uber[(uber['Path']=='Airport_to_City')&(uber['Status']=='Cancelled')].groupby('Day_part')['Request id'].agg(['count'])\n",
    "Airport_Unavailable = uber[(uber['Path']=='Airport_to_City')&(uber['Status']=='No Cars Available')].groupby('Day_part')['Request id'].agg(['count'])\n",
    "DS_Airport = pd.concat([Airport_Demand['count'],Airport_Supply['count'],Airport_Cancelled['count'],Airport_Unavailable['count']],axis=1,keys=['Demand','Supply','Cancelled','Unavailable'])\n",
    "DS_Airport['Gap'] = DS_Airport['Demand']-DS_Airport['Supply']"
   ]
  },
  {
   "cell_type": "code",
   "execution_count": 34,
   "metadata": {},
   "outputs": [],
   "source": [
    "# City Metrics for Demand, Supply, Gap, Cancelled and Unavailable\n",
    "City_Demand = uber[uber['Path']=='City_to_Airport'].groupby('Day_part')['Request id'].agg(['count'])\n",
    "City_Supply = uber[(uber['Path']=='City_to_Airport')&(uber['Status']=='Trip Completed')].groupby('Day_part')['Request id'].agg(['count'])\n",
    "City_Cancelled = uber[(uber['Path']=='City_to_Airport')&(uber['Status']=='Cancelled')].groupby('Day_part')['Request id'].agg(['count'])\n",
    "City_Unavailable = uber[(uber['Path']=='City_to_Airport')&(uber['Status']=='No Cars Available')].groupby('Day_part')['Request id'].agg(['count'])\n",
    "DS_City = pd.concat([City_Demand['count'],City_Supply['count'],City_Cancelled['count'],City_Unavailable['count']],axis=1,keys=['Demand','Supply','Cancelled','Unavailable'])\n",
    "DS_City['Gap'] = DS_City['Demand']-DS_City['Supply']"
   ]
  },
  {
   "cell_type": "code",
   "execution_count": 35,
   "metadata": {},
   "outputs": [
    {
     "name": "stdout",
     "output_type": "stream",
     "text": [
      "               Demand  Supply  Gap\n",
      "Day_part                          \n",
      "After Noon        482     300  182\n",
      "Before Noon       845     404  441\n",
      "Early Morning     283     102  181\n",
      "Evening           749     343  406\n",
      "Late Evening     1475     490  985\n",
      "Late Morning     1226     495  731\n",
      "Mid Morning       741     298  443\n",
      "Night             944     399  545\n",
      "----------------------------------------\n",
      "Mean values from Airport:\n",
      "Demand    684.812860\n",
      "Supply    272.711571\n",
      "Gap       414.522163\n",
      "dtype: float64\n"
     ]
    }
   ],
   "source": [
    "print(DS_Total)\n",
    "print('--'*20)\n",
    "print('Mean values from Airport:')\n",
    "print(DS_Total.describe().mean())"
   ]
  },
  {
   "cell_type": "code",
   "execution_count": 36,
   "metadata": {},
   "outputs": [
    {
     "name": "stdout",
     "output_type": "stream",
     "text": [
      "               Demand  Supply  Cancelled  Unavailable  Gap\n",
      "After Noon        204     137       25.0           42   67\n",
      "Before Noon       228     176       22.0           30   52\n",
      "Early Morning     136      52        NaN           84   84\n",
      "Evening           446     163       44.0          239  283\n",
      "Late Evening     1149     237       59.0          853  912\n",
      "Late Morning      245     223       11.0           11   22\n",
      "Mid Morning       209     136        6.0           67   73\n",
      "Night             621     203       31.0          387  418\n",
      "----------------------------------------\n",
      "Mean values from Airport:\n",
      "Demand         371.489215\n",
      "Supply         129.536460\n",
      "Cancelled       24.717536\n",
      "Unavailable    220.622272\n",
      "Gap            243.016238\n",
      "dtype: float64\n"
     ]
    }
   ],
   "source": [
    "print(DS_Airport)\n",
    "print('--'*20)\n",
    "print('Mean values from Airport:')\n",
    "print(DS_Airport.describe().mean())"
   ]
  },
  {
   "cell_type": "code",
   "execution_count": 37,
   "metadata": {},
   "outputs": [
    {
     "name": "stdout",
     "output_type": "stream",
     "text": [
      "               Demand  Supply  Cancelled  Unavailable  Gap\n",
      "Day_part                                                  \n",
      "After Noon        278     163         23           92  115\n",
      "Before Noon       617     228        230          159  389\n",
      "Early Morning     147      50         12           85   97\n",
      "Evening           303     180         34           89  123\n",
      "Late Evening      326     253         30           43   73\n",
      "Late Morning      981     272        481          228  709\n",
      "Mid Morning       532     162        223          147  370\n",
      "Night             323     196         33           94  127\n",
      "----------------------------------------\n",
      "Mean values from City:\n",
      "Demand         376.681262\n",
      "Supply         146.503493\n",
      "Cancelled      135.997628\n",
      "Unavailable     98.121337\n",
      "Gap            234.223892\n",
      "dtype: float64\n"
     ]
    }
   ],
   "source": [
    "print(DS_City)\n",
    "print('--'*20)\n",
    "print('Mean values from City:')\n",
    "print(DS_City.describe().mean())"
   ]
  },
  {
   "cell_type": "code",
   "execution_count": 38,
   "metadata": {},
   "outputs": [
    {
     "data": {
      "image/png": "[encoded data removed]",
      "text/plain": [
       "<matplotlib.figure.Figure at 0x216ae78da90>"
      ]
     },
     "metadata": {},
     "output_type": "display_data"
    }
   ],
   "source": [
    "# To compare the gaps between both the paths and total\n",
    "fig = plt.figure(figsize=(20,10))\n",
    "\n",
    "plt.subplot(2,2,1)\n",
    "plt.barh(DS_Total.index,DS_Total.Gap.values)\n",
    "plt.title('Total Gap (fig4)')\n",
    "\n",
    "plt.subplot(2,2,2)\n",
    "plt.barh(DS_Airport.index,DS_Airport.Gap.values)\n",
    "plt.title('Car Gap from Airport to City (fig5)')\n",
    "\n",
    "plt.subplot(2,2,3)\n",
    "plt.barh(DS_City.index,DS_City.Gap.values)\n",
    "plt.title('Car Gap from City to Airport (fig6)')\n",
    "plt.show()\n"
   ]
  },
  {
   "cell_type": "markdown",
   "metadata": {},
   "source": [
    "2. Find out the gap between supply and demand and show the same using plots.\n",
    " - a) Find the time slots when the highest gap exists\n",
    "     - Overall the highest gap exists in Late Evening i.e. 6PM to 9PM\n",
    " - b) Find the types of requests (city-airport or airport-city) for which the gap is the most severe in the identified time slots\n",
    "      - Maximum gap is present in airport during Late Evenings"
   ]
  },
  {
   "cell_type": "markdown",
   "metadata": {},
   "source": [
    "#### Now we know there is a supply demand gap and where exactly it is present."
   ]
  },
  {
   "cell_type": "code",
   "execution_count": 39,
   "metadata": {},
   "outputs": [
    {
     "data": {
      "text/plain": [
       "-0.407860091772496"
      ]
     },
     "execution_count": 39,
     "metadata": {},
     "output_type": "execute_result"
    }
   ],
   "source": [
    "# Correlation between Airport Demand and City Gap\n",
    "np.corrcoef(DS_Airport['Demand'],DS_City['Gap'])[1][0]"
   ]
  },
  {
   "cell_type": "code",
   "execution_count": 40,
   "metadata": {},
   "outputs": [
    {
     "data": {
      "image/png": "[encoded data removed]",
      "text/plain": [
       "<matplotlib.figure.Figure at 0x216ae78d080>"
      ]
     },
     "metadata": {},
     "output_type": "display_data"
    }
   ],
   "source": [
    "# Comparing Airport Demand and City Gap\n",
    "fig,ax = plt.subplots(figsize=(10,6))\n",
    "ind = np.arange(len(DS_Airport))\n",
    "width = 0.4\n",
    "ax.barh(ind,DS_Airport.Demand.values,width,color='green',label='Airport Demand')\n",
    "ax.barh(ind+width,DS_City.Gap.values,width,color='blue',label='City Gap')\n",
    "ax.set(yticks=ind + width, yticklabels=DS_Airport.index, ylim=[2*width - 1, len(DS_Airport)])\n",
    "ax.legend()\n",
    "plt.title('Comparing Airport Demand and City Gap (fig7)')\n",
    "plt.show()"
   ]
  },
  {
   "cell_type": "code",
   "execution_count": 41,
   "metadata": {},
   "outputs": [
    {
     "data": {
      "text/plain": [
       "-0.34758821456097155"
      ]
     },
     "execution_count": 41,
     "metadata": {},
     "output_type": "execute_result"
    }
   ],
   "source": [
    "# Correlation between City Demand and Airport Gap\n",
    "np.corrcoef(DS_City['Demand'],DS_Airport['Gap'])[1][0]"
   ]
  },
  {
   "cell_type": "code",
   "execution_count": 42,
   "metadata": {},
   "outputs": [
    {
     "data": {
      "image/png": "[encoded data removed]",
      "text/plain": [
       "<matplotlib.figure.Figure at 0x216ae8c77f0>"
      ]
     },
     "metadata": {},
     "output_type": "display_data"
    }
   ],
   "source": [
    "# Comparing Airport Gap and City Demand\n",
    "fig,ax = plt.subplots(figsize=(10,6))\n",
    "ind = np.arange(len(DS_Airport))\n",
    "width = 0.4\n",
    "ax.barh(ind,DS_Airport.Gap.values,width,color='green',label='Airport Gap')\n",
    "ax.barh(ind+width,DS_City.Demand.values,width,color='blue',label='City Demand')\n",
    "ax.set(yticks=ind + width, yticklabels=DS_Airport.index, ylim=[2*width - 1, len(DS_Airport)])\n",
    "ax.legend()\n",
    "plt.title('Comparing Airport Gap and City Demand (fig8)')\n",
    "plt.show()"
   ]
  },
  {
   "cell_type": "code",
   "execution_count": 43,
   "metadata": {},
   "outputs": [
    {
     "data": {
      "text/plain": [
       "22.01914708442124"
      ]
     },
     "execution_count": 43,
     "metadata": {},
     "output_type": "execute_result"
    }
   ],
   "source": [
    "# Percentage of City Supply to Airport Demand\n",
    "(DS_City.loc['Late Evening','Supply']/DS_Airport.loc['Late Evening','Demand'])*100"
   ]
  },
  {
   "cell_type": "code",
   "execution_count": 44,
   "metadata": {},
   "outputs": [
    {
     "data": {
      "text/plain": [
       "24.97451580020387"
      ]
     },
     "execution_count": 44,
     "metadata": {},
     "output_type": "execute_result"
    }
   ],
   "source": [
    "# Percentage of Airport demand to City Demand\n",
    "(DS_Airport.loc['Late Morning','Demand']/DS_City.loc['Late Morning','Demand'])*100"
   ]
  },
  {
   "cell_type": "code",
   "execution_count": 45,
   "metadata": {},
   "outputs": [
    {
     "data": {
      "text/plain": [
       "90.07352941176471"
      ]
     },
     "execution_count": 45,
     "metadata": {},
     "output_type": "execute_result"
    }
   ],
   "source": [
    "# Percentage of Airport demand to City Supply\n",
    "(DS_Airport.loc['Late Morning','Demand']/DS_City.loc['Late Morning','Supply'])*100"
   ]
  },
  {
   "cell_type": "markdown",
   "metadata": {},
   "source": [
    "3. What do you think is the reason for this issue for the supply-demand gap?\n",
    "    - City supply-demand gap is huge during low Demand in Airport. Chart in Fig7 and -ve correlation between Airport Demand and City Gap clearly gives this insight. Airport demand contributes to 24% of City Demand. Drivers hesitate to take rides from City to Airport whenever there is a low Airport demand. This causes more cancellation. Even after this huge City-Airport cancellation, city cab supply is covering 90% of Airport demand. \n",
    "    - Low City cab supply is causing High Airport Supply-Demand Gap and unavailability. City supplies 22% of Airport Demand during Late Evenings. City to airport cab demand is low but there is high demand in airport. "
   ]
  },
  {
   "cell_type": "markdown",
   "metadata": {},
   "source": [
    "4. Recommendations:\n",
    "     - To award waiting allowances for airport waiting.\n",
    "     - To penalize driver who has more number of cancellations.\n",
    "     - To provide surged prices from Airport to City during peak hours.\n",
    "     - To promote lower cost Shared cabs from Airport to City benefiting both customers and drivers."
   ]
  },
  {
   "cell_type": "code",
   "execution_count": null,
   "metadata": {},
   "outputs": [],
   "source": []
  }
 ],
 "metadata": {
  "kernelspec": {
   "display_name": "Python 3",
   "language": "python",
   "name": "python3"
  },
  "language_info": {
   "codemirror_mode": {
    "name": "ipython",
    "version": 3
   },
   "file_extension": ".py",
   "mimetype": "text/x-python",
   "name": "python",
   "nbconvert_exporter": "python",
   "pygments_lexer": "ipython3",
   "version": "3.6.5"
  }
 },
 "nbformat": 4,
 "nbformat_minor": 2
}
